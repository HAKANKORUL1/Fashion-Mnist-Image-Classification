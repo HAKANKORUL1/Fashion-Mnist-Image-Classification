{
  "nbformat": 4,
  "nbformat_minor": 0,
  "metadata": {
    "colab": {
      "name": "Fashion Mnist image classification with Keras",
      "provenance": [],
      "collapsed_sections": []
    },
    "kernelspec": {
      "name": "python3",
      "display_name": "Python 3"
    },
    "language_info": {
      "name": "python"
    }
  },
  "cells": [
    {
      "cell_type": "code",
      "execution_count": null,
      "metadata": {
        "id": "N7LGaZhBM1Bp"
      },
      "outputs": [],
      "source": [
        "import pandas as pd\n",
        "import numpy as np\n",
        "import tensorflow as tf\n",
        "from tensorflow import keras"
      ]
    },
    {
      "cell_type": "code",
      "source": [
        "#multiclass classification problem with tensorflow"
      ],
      "metadata": {
        "id": "6Nk8RtvTSjAi"
      },
      "execution_count": null,
      "outputs": []
    },
    {
      "cell_type": "code",
      "source": [
        "from tensorflow.keras.datasets import fashion_mnist"
      ],
      "metadata": {
        "id": "2okJ2BdsY2aY"
      },
      "execution_count": null,
      "outputs": []
    },
    {
      "cell_type": "code",
      "source": [
        "(X_train,y_train),(X_test,y_test) = fashion_mnist.load_data()"
      ],
      "metadata": {
        "colab": {
          "base_uri": "https://localhost:8080/"
        },
        "id": "mOsRUYaAZQGV",
        "outputId": "e8b14169-a095-44e6-88d0-162bc3f8e673"
      },
      "execution_count": null,
      "outputs": [
        {
          "output_type": "stream",
          "name": "stdout",
          "text": [
            "Downloading data from https://storage.googleapis.com/tensorflow/tf-keras-datasets/train-labels-idx1-ubyte.gz\n",
            "32768/29515 [=================================] - 0s 0us/step\n",
            "40960/29515 [=========================================] - 0s 0us/step\n",
            "Downloading data from https://storage.googleapis.com/tensorflow/tf-keras-datasets/train-images-idx3-ubyte.gz\n",
            "26427392/26421880 [==============================] - 0s 0us/step\n",
            "26435584/26421880 [==============================] - 0s 0us/step\n",
            "Downloading data from https://storage.googleapis.com/tensorflow/tf-keras-datasets/t10k-labels-idx1-ubyte.gz\n",
            "16384/5148 [===============================================================================================] - 0s 0us/step\n",
            "Downloading data from https://storage.googleapis.com/tensorflow/tf-keras-datasets/t10k-images-idx3-ubyte.gz\n",
            "4423680/4422102 [==============================] - 0s 0us/step\n",
            "4431872/4422102 [==============================] - 0s 0us/step\n"
          ]
        }
      ]
    },
    {
      "cell_type": "code",
      "source": [
        "X_train[0]"
      ],
      "metadata": {
        "id": "UWbIdMmsZnDk"
      },
      "execution_count": null,
      "outputs": []
    },
    {
      "cell_type": "code",
      "source": [
        "y_train[:11]"
      ],
      "metadata": {
        "colab": {
          "base_uri": "https://localhost:8080/"
        },
        "id": "8-RTV79GZqos",
        "outputId": "25b1817b-8f61-452a-a92a-77bc81f081bd"
      },
      "execution_count": null,
      "outputs": [
        {
          "output_type": "execute_result",
          "data": {
            "text/plain": [
              "array([9, 0, 0, 3, 0, 2, 7, 2, 5, 5, 0], dtype=uint8)"
            ]
          },
          "metadata": {},
          "execution_count": 9
        }
      ]
    },
    {
      "cell_type": "code",
      "source": [
        "import matplotlib.pyplot as plt\n",
        "plt.imshow(X_train[3])"
      ],
      "metadata": {
        "colab": {
          "base_uri": "https://localhost:8080/",
          "height": 283
        },
        "id": "VK0NuWCpZ3Tt",
        "outputId": "da555791-ef3c-466b-d7c8-a7880ba038fa"
      },
      "execution_count": null,
      "outputs": [
        {
          "output_type": "execute_result",
          "data": {
            "text/plain": [
              "<matplotlib.image.AxesImage at 0x7fe50f855790>"
            ]
          },
          "metadata": {},
          "execution_count": 12
        },
        {
          "output_type": "display_data",
          "data": {
            "text/plain": [
              "<Figure size 432x288 with 1 Axes>"
            ],
            "image/png": "[encoded data removed]"
          },
          "metadata": {
            "needs_background": "light"
          }
        }
      ]
    },
    {
      "cell_type": "code",
      "source": [
        "y_train[3]"
      ],
      "metadata": {
        "colab": {
          "base_uri": "https://localhost:8080/"
        },
        "id": "wx6wTCouah8n",
        "outputId": "07f3bf11-bd2c-4d0c-8067-8d106236accf"
      },
      "execution_count": null,
      "outputs": [
        {
          "output_type": "execute_result",
          "data": {
            "text/plain": [
              "3"
            ]
          },
          "metadata": {},
          "execution_count": 13
        }
      ]
    },
    {
      "cell_type": "code",
      "source": [
        "#create list for human readable\n",
        "class_names = ['T-shirt/top', 'Trouser', 'Pullover', 'Dress', 'Coat', \n",
        "               'Sandal', 'Shirt', 'Sneaker', 'Bag', 'Ankle boot']\n",
        "\n",
        "# How many classes are there (this'll be our output shape)?\n",
        "len(class_names)"
      ],
      "metadata": {
        "colab": {
          "base_uri": "https://localhost:8080/"
        },
        "id": "udflDBg6aoZT",
        "outputId": "6bfebb3e-a9ce-41a4-e1d2-a85674af4f00"
      },
      "execution_count": null,
      "outputs": [
        {
          "output_type": "execute_result",
          "data": {
            "text/plain": [
              "10"
            ]
          },
          "metadata": {},
          "execution_count": 14
        }
      ]
    },
    {
      "cell_type": "code",
      "source": [
        "plt.imshow(X_train[35])\n",
        "plt.title(class_names[y_train[35]])"
      ],
      "metadata": {
        "colab": {
          "base_uri": "https://localhost:8080/",
          "height": 299
        },
        "id": "68zPvfOEbjme",
        "outputId": "885ec623-6cea-4b02-ee33-e1943130643c"
      },
      "execution_count": null,
      "outputs": [
        {
          "output_type": "execute_result",
          "data": {
            "text/plain": [
              "Text(0.5, 1.0, 'Bag')"
            ]
          },
          "metadata": {},
          "execution_count": 20
        },
        {
          "output_type": "display_data",
          "data": {
            "text/plain": [
              "<Figure size 432x288 with 1 Axes>"
            ],
            "image/png": "[encoded data removed]"
          },
          "metadata": {
            "needs_background": "light"
          }
        }
      ]
    },
    {
      "cell_type": "code",
      "source": [
        "#plot multiple randım images\n",
        "import random\n",
        "plt.figure(figsize=(7,7))\n",
        "for i in range(4):\n",
        "  ax=plt.subplot(2,2,i+1)\n",
        "  rand_index=random.choice(range(len(X_train)))\n",
        "  plt.imshow(X_train[rand_index], cmap=plt.cm.binary)\n",
        "  plt.title(class_names[y_train[rand_index]])"
      ],
      "metadata": {
        "colab": {
          "base_uri": "https://localhost:8080/",
          "height": 444
        },
        "id": "Fv7_i3FMbvtO",
        "outputId": "f42a2c7a-aa73-4b05-8689-8cc14957da68"
      },
      "execution_count": null,
      "outputs": [
        {
          "output_type": "display_data",
          "data": {
            "text/plain": [
              "<Figure size 504x504 with 4 Axes>"
            ],
            "image/png": "[encoded data removed]"
          },
          "metadata": {
            "needs_background": "light"
          }
        }
      ]
    },
    {
      "cell_type": "markdown",
      "source": [
        "Input shape=28 x 28 (the shape of one image)\n",
        "Output shape = 10 \n",
        "Loss Function = tf.keras.losses.CategoricalCrossentropy()\n",
        "Output layer activation = softmax (not sigmoid)\n",
        "\n",
        "If your labels are one-hot encoded, use CategoricalCrossentropy, \n",
        "if they are integer value then use SparseCategoricalCrossentropy()"
      ],
      "metadata": {
        "id": "X9840Qfzdd7s"
      }
    },
    {
      "cell_type": "code",
      "source": [
        "tf.random.set_seed(42)\n",
        "\n",
        "model=tf.keras.Sequential([\n",
        "                           tf.keras.layers.Flatten(input_shape=(28,28)),\n",
        "                           tf.keras.layers.Dense(4,activation = \"relu\"),\n",
        "                           tf.keras.layers.Dense(4,activation=\"relu\"),\n",
        "                           tf.keras.layers.Dense(10,activation=\"softmax\")])\n",
        "model.compile(loss=tf.keras.losses.SparseCategoricalCrossentropy(),\n",
        "              optimizer=tf.keras.optimizers.Adam(),\n",
        "              metrics=\"accuracy\")\n",
        "history= model.fit(X_train,y_train,epochs=100,validation_data=(X_test,y_test))"
      ],
      "metadata": {
        "colab": {
          "base_uri": "https://localhost:8080/"
        },
        "id": "von21ovGd1Qu",
        "outputId": "2c232bc7-3ae2-49bd-bd65-d92ea51ac91d"
      },
      "execution_count": null,
      "outputs": [
        {
          "output_type": "stream",
          "name": "stdout",
          "text": [
            "Epoch 1/100\n",
            "1875/1875 [==============================] - 4s 2ms/step - loss: 2.1643 - accuracy: 0.1609 - val_loss: 1.8304 - val_accuracy: 0.2048\n",
            "Epoch 2/100\n",
            "1875/1875 [==============================] - 3s 2ms/step - loss: 1.7084 - accuracy: 0.2484 - val_loss: 1.6614 - val_accuracy: 0.2850\n",
            "Epoch 3/100\n",
            "1875/1875 [==============================] - 4s 2ms/step - loss: 1.6351 - accuracy: 0.2837 - val_loss: 1.6084 - val_accuracy: 0.2756\n",
            "Epoch 4/100\n",
            "1875/1875 [==============================] - 3s 2ms/step - loss: 1.6108 - accuracy: 0.2912 - val_loss: 1.6029 - val_accuracy: 0.3046\n",
            "Epoch 5/100\n",
            "1875/1875 [==============================] - 3s 2ms/step - loss: 1.6025 - accuracy: 0.2993 - val_loss: 1.5837 - val_accuracy: 0.3139\n",
            "Epoch 6/100\n",
            "1875/1875 [==============================] - 3s 2ms/step - loss: 1.5838 - accuracy: 0.3120 - val_loss: 1.5673 - val_accuracy: 0.3281\n",
            "Epoch 7/100\n",
            "1875/1875 [==============================] - 3s 2ms/step - loss: 1.5788 - accuracy: 0.3183 - val_loss: 1.5687 - val_accuracy: 0.3323\n",
            "Epoch 8/100\n",
            "1875/1875 [==============================] - 3s 2ms/step - loss: 1.5811 - accuracy: 0.3138 - val_loss: 1.5781 - val_accuracy: 0.3197\n",
            "Epoch 9/100\n",
            "1875/1875 [==============================] - 3s 2ms/step - loss: 1.5674 - accuracy: 0.3208 - val_loss: 1.5590 - val_accuracy: 0.3330\n",
            "Epoch 10/100\n",
            "1875/1875 [==============================] - 3s 2ms/step - loss: 1.5666 - accuracy: 0.3231 - val_loss: 1.5552 - val_accuracy: 0.3345\n",
            "Epoch 11/100\n",
            "1875/1875 [==============================] - 3s 2ms/step - loss: 1.5656 - accuracy: 0.3271 - val_loss: 1.5735 - val_accuracy: 0.3234\n",
            "Epoch 12/100\n",
            "1875/1875 [==============================] - 3s 2ms/step - loss: 1.5677 - accuracy: 0.3240 - val_loss: 1.5590 - val_accuracy: 0.3177\n",
            "Epoch 13/100\n",
            "1875/1875 [==============================] - 3s 2ms/step - loss: 1.5657 - accuracy: 0.3199 - val_loss: 1.5977 - val_accuracy: 0.3225\n",
            "Epoch 14/100\n",
            "1875/1875 [==============================] - 3s 2ms/step - loss: 1.5615 - accuracy: 0.3276 - val_loss: 1.5513 - val_accuracy: 0.3329\n",
            "Epoch 15/100\n",
            "1875/1875 [==============================] - 4s 2ms/step - loss: 1.5648 - accuracy: 0.3235 - val_loss: 1.5493 - val_accuracy: 0.3343\n",
            "Epoch 16/100\n",
            "1875/1875 [==============================] - 4s 2ms/step - loss: 1.5619 - accuracy: 0.3292 - val_loss: 1.5502 - val_accuracy: 0.3340\n",
            "Epoch 17/100\n",
            "1875/1875 [==============================] - 3s 2ms/step - loss: 1.5618 - accuracy: 0.3287 - val_loss: 1.5667 - val_accuracy: 0.3224\n",
            "Epoch 18/100\n",
            "1875/1875 [==============================] - 3s 2ms/step - loss: 1.5610 - accuracy: 0.3272 - val_loss: 1.5705 - val_accuracy: 0.3123\n",
            "Epoch 19/100\n",
            "1875/1875 [==============================] - 4s 2ms/step - loss: 1.5573 - accuracy: 0.3284 - val_loss: 1.5485 - val_accuracy: 0.3343\n",
            "Epoch 20/100\n",
            "1875/1875 [==============================] - 3s 2ms/step - loss: 1.5606 - accuracy: 0.3274 - val_loss: 1.5644 - val_accuracy: 0.3336\n",
            "Epoch 21/100\n",
            "1875/1875 [==============================] - 3s 2ms/step - loss: 1.5547 - accuracy: 0.3315 - val_loss: 1.5472 - val_accuracy: 0.3403\n",
            "Epoch 22/100\n",
            "1875/1875 [==============================] - 3s 2ms/step - loss: 1.5596 - accuracy: 0.3338 - val_loss: 1.5514 - val_accuracy: 0.3317\n",
            "Epoch 23/100\n",
            "1875/1875 [==============================] - 3s 2ms/step - loss: 1.5654 - accuracy: 0.3276 - val_loss: 1.5640 - val_accuracy: 0.3223\n",
            "Epoch 24/100\n",
            "1875/1875 [==============================] - 3s 2ms/step - loss: 1.5524 - accuracy: 0.3279 - val_loss: 1.5454 - val_accuracy: 0.3402\n",
            "Epoch 25/100\n",
            "1875/1875 [==============================] - 3s 2ms/step - loss: 1.5569 - accuracy: 0.3296 - val_loss: 1.5443 - val_accuracy: 0.3390\n",
            "Epoch 26/100\n",
            "1875/1875 [==============================] - 3s 2ms/step - loss: 1.5442 - accuracy: 0.3342 - val_loss: 1.5416 - val_accuracy: 0.3448\n",
            "Epoch 27/100\n",
            "1875/1875 [==============================] - 3s 2ms/step - loss: 1.5521 - accuracy: 0.3357 - val_loss: 1.5727 - val_accuracy: 0.3043\n",
            "Epoch 28/100\n",
            "1875/1875 [==============================] - 3s 2ms/step - loss: 1.5504 - accuracy: 0.3360 - val_loss: 1.5494 - val_accuracy: 0.3432\n",
            "Epoch 29/100\n",
            "1875/1875 [==============================] - 3s 2ms/step - loss: 1.5587 - accuracy: 0.3327 - val_loss: 1.5430 - val_accuracy: 0.3401\n",
            "Epoch 30/100\n",
            "1875/1875 [==============================] - 3s 2ms/step - loss: 1.5509 - accuracy: 0.3355 - val_loss: 1.5696 - val_accuracy: 0.3369\n",
            "Epoch 31/100\n",
            "1875/1875 [==============================] - 3s 2ms/step - loss: 1.5497 - accuracy: 0.3365 - val_loss: 1.5509 - val_accuracy: 0.3379\n",
            "Epoch 32/100\n",
            "1875/1875 [==============================] - 3s 2ms/step - loss: 1.5454 - accuracy: 0.3388 - val_loss: 1.5463 - val_accuracy: 0.3370\n",
            "Epoch 33/100\n",
            "1875/1875 [==============================] - 3s 2ms/step - loss: 1.5468 - accuracy: 0.3381 - val_loss: 1.5377 - val_accuracy: 0.3414\n",
            "Epoch 34/100\n",
            "1875/1875 [==============================] - 3s 2ms/step - loss: 1.5483 - accuracy: 0.3381 - val_loss: 1.5599 - val_accuracy: 0.3344\n",
            "Epoch 35/100\n",
            "1875/1875 [==============================] - 3s 2ms/step - loss: 1.5469 - accuracy: 0.3357 - val_loss: 1.5501 - val_accuracy: 0.3274\n",
            "Epoch 36/100\n",
            "1875/1875 [==============================] - 3s 2ms/step - loss: 1.5491 - accuracy: 0.3337 - val_loss: 1.5412 - val_accuracy: 0.3413\n",
            "Epoch 37/100\n",
            "1875/1875 [==============================] - 3s 2ms/step - loss: 1.5433 - accuracy: 0.3369 - val_loss: 1.5443 - val_accuracy: 0.3426\n",
            "Epoch 38/100\n",
            "1875/1875 [==============================] - 3s 2ms/step - loss: 1.5469 - accuracy: 0.3365 - val_loss: 1.5426 - val_accuracy: 0.3363\n",
            "Epoch 39/100\n",
            "1875/1875 [==============================] - 3s 2ms/step - loss: 1.5660 - accuracy: 0.3279 - val_loss: 1.5273 - val_accuracy: 0.3322\n",
            "Epoch 40/100\n",
            "1875/1875 [==============================] - 3s 2ms/step - loss: 1.5101 - accuracy: 0.3333 - val_loss: 1.4908 - val_accuracy: 0.3478\n",
            "Epoch 41/100\n",
            "1875/1875 [==============================] - 3s 2ms/step - loss: 1.4895 - accuracy: 0.3466 - val_loss: 1.4977 - val_accuracy: 0.3423\n",
            "Epoch 42/100\n",
            "1875/1875 [==============================] - 4s 2ms/step - loss: 1.4982 - accuracy: 0.3429 - val_loss: 1.4824 - val_accuracy: 0.3336\n",
            "Epoch 43/100\n",
            "1875/1875 [==============================] - 4s 2ms/step - loss: 1.4809 - accuracy: 0.3428 - val_loss: 1.4632 - val_accuracy: 0.3644\n",
            "Epoch 44/100\n",
            "1875/1875 [==============================] - 3s 2ms/step - loss: 1.4845 - accuracy: 0.3428 - val_loss: 1.4732 - val_accuracy: 0.3377\n",
            "Epoch 45/100\n",
            "1875/1875 [==============================] - 4s 2ms/step - loss: 1.4712 - accuracy: 0.3426 - val_loss: 1.4728 - val_accuracy: 0.3398\n",
            "Epoch 46/100\n",
            "1875/1875 [==============================] - 3s 2ms/step - loss: 1.4828 - accuracy: 0.3485 - val_loss: 1.5212 - val_accuracy: 0.3503\n",
            "Epoch 47/100\n",
            "1875/1875 [==============================] - 3s 2ms/step - loss: 1.4902 - accuracy: 0.3368 - val_loss: 1.4713 - val_accuracy: 0.3574\n",
            "Epoch 48/100\n",
            "1875/1875 [==============================] - 3s 2ms/step - loss: 1.4785 - accuracy: 0.3487 - val_loss: 1.4967 - val_accuracy: 0.3623\n",
            "Epoch 49/100\n",
            "1875/1875 [==============================] - 3s 2ms/step - loss: 1.5266 - accuracy: 0.3433 - val_loss: 1.5248 - val_accuracy: 0.3524\n",
            "Epoch 50/100\n",
            "1875/1875 [==============================] - 3s 2ms/step - loss: 1.5392 - accuracy: 0.3373 - val_loss: 1.5461 - val_accuracy: 0.3413\n",
            "Epoch 51/100\n",
            "1875/1875 [==============================] - 3s 2ms/step - loss: 1.5479 - accuracy: 0.3376 - val_loss: 1.5632 - val_accuracy: 0.3373\n",
            "Epoch 52/100\n",
            "1875/1875 [==============================] - 3s 2ms/step - loss: 1.5495 - accuracy: 0.3378 - val_loss: 1.5401 - val_accuracy: 0.3442\n",
            "Epoch 53/100\n",
            "1875/1875 [==============================] - 3s 2ms/step - loss: 1.5408 - accuracy: 0.3378 - val_loss: 1.5364 - val_accuracy: 0.3431\n",
            "Epoch 54/100\n",
            "1875/1875 [==============================] - 3s 2ms/step - loss: 1.5408 - accuracy: 0.3391 - val_loss: 1.5446 - val_accuracy: 0.3444\n",
            "Epoch 55/100\n",
            "1875/1875 [==============================] - 3s 2ms/step - loss: 1.5379 - accuracy: 0.3407 - val_loss: 1.5345 - val_accuracy: 0.3472\n",
            "Epoch 56/100\n",
            "1875/1875 [==============================] - 3s 2ms/step - loss: 1.5454 - accuracy: 0.3414 - val_loss: 1.5520 - val_accuracy: 0.3454\n",
            "Epoch 57/100\n",
            "1875/1875 [==============================] - 3s 2ms/step - loss: 1.5560 - accuracy: 0.3410 - val_loss: 1.5416 - val_accuracy: 0.3421\n",
            "Epoch 58/100\n",
            "1875/1875 [==============================] - 3s 2ms/step - loss: 1.5403 - accuracy: 0.3409 - val_loss: 1.5474 - val_accuracy: 0.3445\n",
            "Epoch 59/100\n",
            "1875/1875 [==============================] - 3s 2ms/step - loss: 1.5587 - accuracy: 0.3386 - val_loss: 1.5536 - val_accuracy: 0.3435\n",
            "Epoch 60/100\n",
            "1875/1875 [==============================] - 3s 2ms/step - loss: 1.5616 - accuracy: 0.3396 - val_loss: 1.5531 - val_accuracy: 0.3406\n",
            "Epoch 61/100\n",
            "1875/1875 [==============================] - 3s 2ms/step - loss: 1.5406 - accuracy: 0.3411 - val_loss: 1.5486 - val_accuracy: 0.3398\n",
            "Epoch 62/100\n",
            "1875/1875 [==============================] - 3s 2ms/step - loss: 1.5400 - accuracy: 0.3397 - val_loss: 1.5335 - val_accuracy: 0.3452\n",
            "Epoch 63/100\n",
            "1875/1875 [==============================] - 3s 2ms/step - loss: 1.5369 - accuracy: 0.3404 - val_loss: 1.5332 - val_accuracy: 0.3423\n",
            "Epoch 64/100\n",
            "1875/1875 [==============================] - 3s 2ms/step - loss: 1.5388 - accuracy: 0.3415 - val_loss: 1.5531 - val_accuracy: 0.3455\n",
            "Epoch 65/100\n",
            "1875/1875 [==============================] - 3s 2ms/step - loss: 1.5428 - accuracy: 0.3406 - val_loss: 1.5369 - val_accuracy: 0.3455\n",
            "Epoch 66/100\n",
            "1875/1875 [==============================] - 3s 2ms/step - loss: 1.5504 - accuracy: 0.3365 - val_loss: 1.5481 - val_accuracy: 0.3391\n",
            "Epoch 67/100\n",
            "1875/1875 [==============================] - 3s 2ms/step - loss: 1.5526 - accuracy: 0.3345 - val_loss: 1.5398 - val_accuracy: 0.3392\n",
            "Epoch 68/100\n",
            "1875/1875 [==============================] - 3s 2ms/step - loss: 1.5368 - accuracy: 0.3403 - val_loss: 1.5366 - val_accuracy: 0.3442\n",
            "Epoch 69/100\n",
            "1875/1875 [==============================] - 3s 2ms/step - loss: 1.5381 - accuracy: 0.3384 - val_loss: 1.5346 - val_accuracy: 0.3430\n",
            "Epoch 70/100\n",
            "1875/1875 [==============================] - 3s 2ms/step - loss: 1.5369 - accuracy: 0.3393 - val_loss: 1.5406 - val_accuracy: 0.3458\n",
            "Epoch 71/100\n",
            "1875/1875 [==============================] - 3s 2ms/step - loss: 1.5433 - accuracy: 0.3394 - val_loss: 1.5667 - val_accuracy: 0.3360\n",
            "Epoch 72/100\n",
            "1875/1875 [==============================] - 3s 2ms/step - loss: 1.5457 - accuracy: 0.3390 - val_loss: 1.5629 - val_accuracy: 0.3417\n",
            "Epoch 73/100\n",
            "1875/1875 [==============================] - 4s 2ms/step - loss: 1.5611 - accuracy: 0.3417 - val_loss: 1.5696 - val_accuracy: 0.3435\n",
            "Epoch 74/100\n",
            "1875/1875 [==============================] - 3s 2ms/step - loss: 1.5577 - accuracy: 0.3412 - val_loss: 1.5639 - val_accuracy: 0.3397\n",
            "Epoch 75/100\n",
            "1875/1875 [==============================] - 3s 2ms/step - loss: 1.5665 - accuracy: 0.3397 - val_loss: 1.5798 - val_accuracy: 0.3382\n",
            "Epoch 76/100\n",
            "1875/1875 [==============================] - 3s 2ms/step - loss: 1.5595 - accuracy: 0.3414 - val_loss: 1.5624 - val_accuracy: 0.3423\n",
            "Epoch 77/100\n",
            "1875/1875 [==============================] - 3s 2ms/step - loss: 1.5460 - accuracy: 0.3421 - val_loss: 1.5430 - val_accuracy: 0.3444\n",
            "Epoch 78/100\n",
            "1875/1875 [==============================] - 3s 2ms/step - loss: 1.5451 - accuracy: 0.3408 - val_loss: 1.5398 - val_accuracy: 0.3439\n",
            "Epoch 79/100\n",
            "1875/1875 [==============================] - 3s 2ms/step - loss: 1.5415 - accuracy: 0.3436 - val_loss: 1.5550 - val_accuracy: 0.3418\n",
            "Epoch 80/100\n",
            "1875/1875 [==============================] - 3s 2ms/step - loss: 1.5476 - accuracy: 0.3428 - val_loss: 1.5441 - val_accuracy: 0.3405\n",
            "Epoch 81/100\n",
            "1875/1875 [==============================] - 4s 2ms/step - loss: 1.5509 - accuracy: 0.3381 - val_loss: 1.5573 - val_accuracy: 0.3429\n",
            "Epoch 82/100\n",
            "1875/1875 [==============================] - 4s 2ms/step - loss: 1.5510 - accuracy: 0.3422 - val_loss: 1.5542 - val_accuracy: 0.3446\n",
            "Epoch 83/100\n",
            "1875/1875 [==============================] - 3s 2ms/step - loss: 1.5458 - accuracy: 0.3402 - val_loss: 1.5660 - val_accuracy: 0.3359\n",
            "Epoch 84/100\n",
            "1875/1875 [==============================] - 3s 2ms/step - loss: 1.5488 - accuracy: 0.3394 - val_loss: 1.5651 - val_accuracy: 0.3412\n",
            "Epoch 85/100\n",
            "1875/1875 [==============================] - 3s 2ms/step - loss: 1.5636 - accuracy: 0.3361 - val_loss: 1.5872 - val_accuracy: 0.3361\n",
            "Epoch 86/100\n",
            "1875/1875 [==============================] - 4s 2ms/step - loss: 1.5662 - accuracy: 0.3375 - val_loss: 1.5729 - val_accuracy: 0.3376\n",
            "Epoch 87/100\n",
            "1875/1875 [==============================] - 3s 2ms/step - loss: 1.5541 - accuracy: 0.3420 - val_loss: 1.5531 - val_accuracy: 0.3419\n",
            "Epoch 88/100\n",
            "1875/1875 [==============================] - 3s 2ms/step - loss: 1.5618 - accuracy: 0.3379 - val_loss: 1.5864 - val_accuracy: 0.3383\n",
            "Epoch 89/100\n",
            "1875/1875 [==============================] - 3s 2ms/step - loss: 1.5828 - accuracy: 0.3339 - val_loss: 1.5528 - val_accuracy: 0.3449\n",
            "Epoch 90/100\n",
            "1875/1875 [==============================] - 4s 2ms/step - loss: 1.5679 - accuracy: 0.3389 - val_loss: 1.6107 - val_accuracy: 0.3287\n",
            "Epoch 91/100\n",
            "1875/1875 [==============================] - 4s 2ms/step - loss: 1.5893 - accuracy: 0.3314 - val_loss: 1.5516 - val_accuracy: 0.3448\n",
            "Epoch 92/100\n",
            "1875/1875 [==============================] - 3s 2ms/step - loss: 1.5635 - accuracy: 0.3374 - val_loss: 1.5491 - val_accuracy: 0.3447\n",
            "Epoch 93/100\n",
            "1875/1875 [==============================] - 3s 2ms/step - loss: 1.5502 - accuracy: 0.3400 - val_loss: 1.5462 - val_accuracy: 0.3446\n",
            "Epoch 94/100\n",
            "1875/1875 [==============================] - 3s 2ms/step - loss: 1.5384 - accuracy: 0.3391 - val_loss: 1.5352 - val_accuracy: 0.3455\n",
            "Epoch 95/100\n",
            "1875/1875 [==============================] - 3s 2ms/step - loss: 1.5424 - accuracy: 0.3400 - val_loss: 1.5468 - val_accuracy: 0.3452\n",
            "Epoch 96/100\n",
            "1875/1875 [==============================] - 3s 2ms/step - loss: 1.5477 - accuracy: 0.3429 - val_loss: 1.5830 - val_accuracy: 0.3385\n",
            "Epoch 97/100\n",
            "1875/1875 [==============================] - 4s 2ms/step - loss: 1.5479 - accuracy: 0.3409 - val_loss: 1.5607 - val_accuracy: 0.3425\n",
            "Epoch 98/100\n",
            "1875/1875 [==============================] - 4s 2ms/step - loss: 1.5698 - accuracy: 0.3379 - val_loss: 1.5669 - val_accuracy: 0.3413\n",
            "Epoch 99/100\n",
            "1875/1875 [==============================] - 3s 2ms/step - loss: 1.5561 - accuracy: 0.3405 - val_loss: 1.5610 - val_accuracy: 0.3423\n",
            "Epoch 100/100\n",
            "1875/1875 [==============================] - 3s 2ms/step - loss: 1.5585 - accuracy: 0.3379 - val_loss: 1.6039 - val_accuracy: 0.3310\n"
          ]
        }
      ]
    },
    {
      "cell_type": "code",
      "source": [
        "X_train=X_train/255\n",
        "X_test=X_test/255"
      ],
      "metadata": {
        "id": "ih0eufRfe6X5"
      },
      "execution_count": null,
      "outputs": []
    },
    {
      "cell_type": "code",
      "source": [
        "tf.random.set_seed(42)\n",
        "\n",
        "model=tf.keras.Sequential([\n",
        "                           tf.keras.layers.Flatten(input_shape=(28,28)),\n",
        "                           tf.keras.layers.Dense(40,activation = \"relu\"),\n",
        "                           tf.keras.layers.Dense(40,activation=\"relu\"),\n",
        "                           tf.keras.layers.Dense(10,activation=\"softmax\")])\n",
        "model.compile(loss=tf.keras.losses.CategoricalCrossentropy(),\n",
        "              optimizer=tf.keras.optimizers.Adam(),\n",
        "              metrics=\"accuracy\")\n",
        "history= model.fit(X_train,tf.one_hot(y_train,depth=10)\n",
        "                    ,epochs=10,validation_data=(X_test,tf.one_hot(y_test,depth=10)))"
      ],
      "metadata": {
        "colab": {
          "base_uri": "https://localhost:8080/"
        },
        "id": "JMVc2uG7hf6U",
        "outputId": "29678274-0ad6-4c79-d032-86ec441f348a"
      },
      "execution_count": null,
      "outputs": [
        {
          "output_type": "stream",
          "name": "stdout",
          "text": [
            "Epoch 1/10\n",
            "1875/1875 [==============================] - 4s 2ms/step - loss: 0.5247 - accuracy: 0.8166 - val_loss: 0.4328 - val_accuracy: 0.8419\n",
            "Epoch 2/10\n",
            "1875/1875 [==============================] - 4s 2ms/step - loss: 0.3907 - accuracy: 0.8586 - val_loss: 0.4804 - val_accuracy: 0.8377\n",
            "Epoch 3/10\n",
            "1875/1875 [==============================] - 3s 2ms/step - loss: 0.3579 - accuracy: 0.8706 - val_loss: 0.4011 - val_accuracy: 0.8562\n",
            "Epoch 4/10\n",
            "1875/1875 [==============================] - 4s 2ms/step - loss: 0.3358 - accuracy: 0.8785 - val_loss: 0.3842 - val_accuracy: 0.8639\n",
            "Epoch 5/10\n",
            "1875/1875 [==============================] - 3s 2ms/step - loss: 0.3220 - accuracy: 0.8820 - val_loss: 0.3968 - val_accuracy: 0.8579\n",
            "Epoch 6/10\n",
            "1875/1875 [==============================] - 4s 2ms/step - loss: 0.3086 - accuracy: 0.8858 - val_loss: 0.4010 - val_accuracy: 0.8566\n",
            "Epoch 7/10\n",
            "1875/1875 [==============================] - 4s 2ms/step - loss: 0.2979 - accuracy: 0.8908 - val_loss: 0.3752 - val_accuracy: 0.8637\n",
            "Epoch 8/10\n",
            "1875/1875 [==============================] - 4s 2ms/step - loss: 0.2884 - accuracy: 0.8950 - val_loss: 0.3555 - val_accuracy: 0.8750\n",
            "Epoch 9/10\n",
            "1875/1875 [==============================] - 4s 2ms/step - loss: 0.2804 - accuracy: 0.8967 - val_loss: 0.3628 - val_accuracy: 0.8746\n",
            "Epoch 10/10\n",
            "1875/1875 [==============================] - 3s 2ms/step - loss: 0.2733 - accuracy: 0.8983 - val_loss: 0.3579 - val_accuracy: 0.8717\n"
          ]
        }
      ]
    },
    {
      "cell_type": "code",
      "source": [
        "tf.random.set_seed(42)\n",
        "\n",
        "model=tf.keras.Sequential([\n",
        "                           tf.keras.layers.Flatten(input_shape=(28,28)),\n",
        "                           tf.keras.layers.Dense(400,activation = \"relu\"),\n",
        "                           tf.keras.layers.Dense(400,activation=\"relu\"),\n",
        "                           tf.keras.layers.Dense(10,activation=\"softmax\")])\n",
        "model.compile(loss=tf.keras.losses.SparseCategoricalCrossentropy(),\n",
        "              optimizer=tf.keras.optimizers.Adam(),\n",
        "              metrics=\"accuracy\")\n",
        "history= model.fit(X_train,y_train,\n",
        "                    epochs=10,validation_data=(X_test,y_test))"
      ],
      "metadata": {
        "colab": {
          "base_uri": "https://localhost:8080/"
        },
        "id": "sIgYGD6iiHTh",
        "outputId": "c230d208-2f44-4bfa-c740-d85d31c42282"
      },
      "execution_count": null,
      "outputs": [
        {
          "output_type": "stream",
          "name": "stdout",
          "text": [
            "Epoch 1/10\n",
            "1875/1875 [==============================] - 11s 6ms/step - loss: 0.4699 - accuracy: 0.8289 - val_loss: 0.4013 - val_accuracy: 0.8531\n",
            "Epoch 2/10\n",
            "1875/1875 [==============================] - 12s 6ms/step - loss: 0.3562 - accuracy: 0.8692 - val_loss: 0.4301 - val_accuracy: 0.8554\n",
            "Epoch 3/10\n",
            "1875/1875 [==============================] - 11s 6ms/step - loss: 0.3211 - accuracy: 0.8815 - val_loss: 0.3675 - val_accuracy: 0.8681\n",
            "Epoch 4/10\n",
            "1875/1875 [==============================] - 12s 6ms/step - loss: 0.2964 - accuracy: 0.8900 - val_loss: 0.3684 - val_accuracy: 0.8683\n",
            "Epoch 5/10\n",
            "1875/1875 [==============================] - 12s 6ms/step - loss: 0.2797 - accuracy: 0.8951 - val_loss: 0.3467 - val_accuracy: 0.8755\n",
            "Epoch 6/10\n",
            "1875/1875 [==============================] - 11s 6ms/step - loss: 0.2622 - accuracy: 0.8998 - val_loss: 0.3738 - val_accuracy: 0.8668\n",
            "Epoch 7/10\n",
            "1875/1875 [==============================] - 12s 6ms/step - loss: 0.2526 - accuracy: 0.9036 - val_loss: 0.3547 - val_accuracy: 0.8765\n",
            "Epoch 8/10\n",
            "1875/1875 [==============================] - 11s 6ms/step - loss: 0.2394 - accuracy: 0.9082 - val_loss: 0.3304 - val_accuracy: 0.8866\n",
            "Epoch 9/10\n",
            "1875/1875 [==============================] - 13s 7ms/step - loss: 0.2299 - accuracy: 0.9133 - val_loss: 0.3435 - val_accuracy: 0.8867\n",
            "Epoch 10/10\n",
            "1875/1875 [==============================] - 14s 7ms/step - loss: 0.2219 - accuracy: 0.9151 - val_loss: 0.3340 - val_accuracy: 0.8878\n"
          ]
        }
      ]
    },
    {
      "cell_type": "code",
      "source": [
        ""
      ],
      "metadata": {
        "id": "2-13VtV8i_q0"
      },
      "execution_count": null,
      "outputs": []
    },
    {
      "cell_type": "markdown",
      "source": [
        "Finding the ideal learning rate"
      ],
      "metadata": {
        "id": "aGjLMLwEjYZJ"
      }
    },
    {
      "cell_type": "code",
      "source": [
        "tf.random.set_seed(42)\n",
        "\n",
        "model=tf.keras.Sequential([\n",
        "                             tf.keras.layers.Flatten(input_shape=(28,28)),\n",
        "                             tf.keras.layers.Dense(40,activation=\"relu\"),\n",
        "                             tf.keras.layers.Dense(40,activation=\"relu\"),\n",
        "                             tf.keras.layers.Dense(10,activation=\"softmax\")\n",
        "])\n",
        "model.compile(loss=tf.keras.losses.SparseCategoricalCrossentropy(),\n",
        "                optimizer=tf.keras.optimizers.Adam(),\n",
        "                metrics=[\"accuracy\"])\n",
        "#create the learning rate callback\n",
        "lr_scheduler=tf.keras.callbacks.LearningRateScheduler(lambda epoch:1e-3 * 10**(epoch/20))\n",
        "find_lr_history=model.fit(X_train,y_train,\n",
        "                            epochs=40,\n",
        "                            validation_data=(X_test,y_test),\n",
        "                            callbacks=[lr_scheduler])"
      ],
      "metadata": {
        "colab": {
          "base_uri": "https://localhost:8080/"
        },
        "id": "LwqpmEwPjcuI",
        "outputId": "318caeeb-0b9e-49bf-e1f0-2531295ddcf5"
      },
      "execution_count": null,
      "outputs": [
        {
          "output_type": "stream",
          "name": "stdout",
          "text": [
            "Epoch 1/40\n",
            "1875/1875 [==============================] - 5s 2ms/step - loss: 0.5247 - accuracy: 0.8166 - val_loss: 0.4328 - val_accuracy: 0.8419 - lr: 0.0010\n",
            "Epoch 2/40\n",
            "1875/1875 [==============================] - 4s 2ms/step - loss: 0.3938 - accuracy: 0.8578 - val_loss: 0.4807 - val_accuracy: 0.8377 - lr: 0.0011\n",
            "Epoch 3/40\n",
            "1875/1875 [==============================] - 4s 2ms/step - loss: 0.3654 - accuracy: 0.8671 - val_loss: 0.4023 - val_accuracy: 0.8518 - lr: 0.0013\n",
            "Epoch 4/40\n",
            "1875/1875 [==============================] - 4s 2ms/step - loss: 0.3467 - accuracy: 0.8732 - val_loss: 0.4035 - val_accuracy: 0.8555 - lr: 0.0014\n",
            "Epoch 5/40\n",
            "1875/1875 [==============================] - 4s 2ms/step - loss: 0.3345 - accuracy: 0.8774 - val_loss: 0.3899 - val_accuracy: 0.8579 - lr: 0.0016\n",
            "Epoch 6/40\n",
            "1875/1875 [==============================] - 4s 2ms/step - loss: 0.3251 - accuracy: 0.8811 - val_loss: 0.4005 - val_accuracy: 0.8553 - lr: 0.0018\n",
            "Epoch 7/40\n",
            "1875/1875 [==============================] - 3s 2ms/step - loss: 0.3184 - accuracy: 0.8837 - val_loss: 0.3650 - val_accuracy: 0.8700 - lr: 0.0020\n",
            "Epoch 8/40\n",
            "1875/1875 [==============================] - 4s 2ms/step - loss: 0.3150 - accuracy: 0.8847 - val_loss: 0.3587 - val_accuracy: 0.8717 - lr: 0.0022\n",
            "Epoch 9/40\n",
            "1875/1875 [==============================] - 4s 2ms/step - loss: 0.3120 - accuracy: 0.8851 - val_loss: 0.3753 - val_accuracy: 0.8640 - lr: 0.0025\n",
            "Epoch 10/40\n",
            "1875/1875 [==============================] - 4s 2ms/step - loss: 0.3094 - accuracy: 0.8853 - val_loss: 0.4138 - val_accuracy: 0.8564 - lr: 0.0028\n",
            "Epoch 11/40\n",
            "1875/1875 [==============================] - 4s 2ms/step - loss: 0.3109 - accuracy: 0.8838 - val_loss: 0.4028 - val_accuracy: 0.8595 - lr: 0.0032\n",
            "Epoch 12/40\n",
            "1875/1875 [==============================] - 4s 2ms/step - loss: 0.3134 - accuracy: 0.8840 - val_loss: 0.3907 - val_accuracy: 0.8624 - lr: 0.0035\n",
            "Epoch 13/40\n",
            "1875/1875 [==============================] - 4s 2ms/step - loss: 0.3178 - accuracy: 0.8834 - val_loss: 0.3975 - val_accuracy: 0.8560 - lr: 0.0040\n",
            "Epoch 14/40\n",
            "1875/1875 [==============================] - 4s 2ms/step - loss: 0.3177 - accuracy: 0.8845 - val_loss: 0.4010 - val_accuracy: 0.8643 - lr: 0.0045\n",
            "Epoch 15/40\n",
            "1875/1875 [==============================] - 3s 2ms/step - loss: 0.3237 - accuracy: 0.8828 - val_loss: 0.4033 - val_accuracy: 0.8548 - lr: 0.0050\n",
            "Epoch 16/40\n",
            "1875/1875 [==============================] - 4s 2ms/step - loss: 0.3295 - accuracy: 0.8804 - val_loss: 0.4251 - val_accuracy: 0.8585 - lr: 0.0056\n",
            "Epoch 17/40\n",
            "1875/1875 [==============================] - 4s 2ms/step - loss: 0.3310 - accuracy: 0.8796 - val_loss: 0.4204 - val_accuracy: 0.8602 - lr: 0.0063\n",
            "Epoch 18/40\n",
            "1875/1875 [==============================] - 4s 2ms/step - loss: 0.3464 - accuracy: 0.8769 - val_loss: 0.4032 - val_accuracy: 0.8623 - lr: 0.0071\n",
            "Epoch 19/40\n",
            "1875/1875 [==============================] - 4s 2ms/step - loss: 0.3505 - accuracy: 0.8760 - val_loss: 0.4312 - val_accuracy: 0.8491 - lr: 0.0079\n",
            "Epoch 20/40\n",
            "1875/1875 [==============================] - 4s 2ms/step - loss: 0.3594 - accuracy: 0.8747 - val_loss: 0.4031 - val_accuracy: 0.8644 - lr: 0.0089\n",
            "Epoch 21/40\n",
            "1875/1875 [==============================] - 4s 2ms/step - loss: 0.3649 - accuracy: 0.8735 - val_loss: 0.4372 - val_accuracy: 0.8592 - lr: 0.0100\n",
            "Epoch 22/40\n",
            "1875/1875 [==============================] - 3s 2ms/step - loss: 0.3712 - accuracy: 0.8730 - val_loss: 0.4548 - val_accuracy: 0.8489 - lr: 0.0112\n",
            "Epoch 23/40\n",
            "1875/1875 [==============================] - 3s 2ms/step - loss: 0.3896 - accuracy: 0.8666 - val_loss: 0.4848 - val_accuracy: 0.8438 - lr: 0.0126\n",
            "Epoch 24/40\n",
            "1875/1875 [==============================] - 4s 2ms/step - loss: 0.4081 - accuracy: 0.8610 - val_loss: 0.5074 - val_accuracy: 0.8344 - lr: 0.0141\n",
            "Epoch 25/40\n",
            "1875/1875 [==============================] - 4s 2ms/step - loss: 0.4213 - accuracy: 0.8561 - val_loss: 0.4915 - val_accuracy: 0.8414 - lr: 0.0158\n",
            "Epoch 26/40\n",
            "1875/1875 [==============================] - 4s 2ms/step - loss: 0.4475 - accuracy: 0.8527 - val_loss: 0.5374 - val_accuracy: 0.8404 - lr: 0.0178\n",
            "Epoch 27/40\n",
            "1875/1875 [==============================] - 4s 2ms/step - loss: 0.4858 - accuracy: 0.8445 - val_loss: 0.5170 - val_accuracy: 0.8312 - lr: 0.0200\n",
            "Epoch 28/40\n",
            "1875/1875 [==============================] - 4s 2ms/step - loss: 0.4825 - accuracy: 0.8417 - val_loss: 0.6180 - val_accuracy: 0.8026 - lr: 0.0224\n",
            "Epoch 29/40\n",
            "1875/1875 [==============================] - 4s 2ms/step - loss: 0.5529 - accuracy: 0.8224 - val_loss: 0.6213 - val_accuracy: 0.8072 - lr: 0.0251\n",
            "Epoch 30/40\n",
            "1875/1875 [==============================] - 4s 2ms/step - loss: 0.5897 - accuracy: 0.8147 - val_loss: 0.6289 - val_accuracy: 0.8212 - lr: 0.0282\n",
            "Epoch 31/40\n",
            "1875/1875 [==============================] - 4s 2ms/step - loss: 0.6037 - accuracy: 0.8113 - val_loss: 0.7267 - val_accuracy: 0.7690 - lr: 0.0316\n",
            "Epoch 32/40\n",
            "1875/1875 [==============================] - 4s 2ms/step - loss: 0.7573 - accuracy: 0.7416 - val_loss: 0.8498 - val_accuracy: 0.7201 - lr: 0.0355\n",
            "Epoch 33/40\n",
            "1875/1875 [==============================] - 4s 2ms/step - loss: 0.9613 - accuracy: 0.6535 - val_loss: 1.1190 - val_accuracy: 0.5734 - lr: 0.0398\n",
            "Epoch 34/40\n",
            "1875/1875 [==============================] - 4s 2ms/step - loss: 1.1018 - accuracy: 0.5705 - val_loss: 1.0751 - val_accuracy: 0.5738 - lr: 0.0447\n",
            "Epoch 35/40\n",
            "1875/1875 [==============================] - 5s 3ms/step - loss: 1.3691 - accuracy: 0.4561 - val_loss: 1.7072 - val_accuracy: 0.2965 - lr: 0.0501\n",
            "Epoch 36/40\n",
            "1875/1875 [==============================] - 4s 2ms/step - loss: 1.3621 - accuracy: 0.4020 - val_loss: 1.3058 - val_accuracy: 0.3897 - lr: 0.0562\n",
            "Epoch 37/40\n",
            "1875/1875 [==============================] - 4s 2ms/step - loss: 1.3781 - accuracy: 0.4020 - val_loss: 1.3655 - val_accuracy: 0.4236 - lr: 0.0631\n",
            "Epoch 38/40\n",
            "1875/1875 [==============================] - 4s 2ms/step - loss: 1.3538 - accuracy: 0.3987 - val_loss: 1.2994 - val_accuracy: 0.3972 - lr: 0.0708\n",
            "Epoch 39/40\n",
            "1875/1875 [==============================] - 4s 2ms/step - loss: 1.4037 - accuracy: 0.3977 - val_loss: 1.3793 - val_accuracy: 0.4119 - lr: 0.0794\n",
            "Epoch 40/40\n",
            "1875/1875 [==============================] - 4s 2ms/step - loss: 1.4874 - accuracy: 0.3835 - val_loss: 1.4662 - val_accuracy: 0.3898 - lr: 0.0891\n"
          ]
        }
      ]
    },
    {
      "cell_type": "code",
      "source": [
        "# Plot the learning rate decay curve\n",
        "import numpy as np\n",
        "import matplotlib.pyplot as plt\n",
        "lrs = 1e-3 * (10**(np.arange(40)/20))\n",
        "plt.semilogx(lrs, find_lr_history.history[\"loss\"]) # want the x-axis to be log-scale\n",
        "plt.xlabel(\"Learning rate\")\n",
        "plt.ylabel(\"Loss\")\n",
        "plt.title(\"Finding the ideal learning rate\");"
      ],
      "metadata": {
        "colab": {
          "base_uri": "https://localhost:8080/",
          "height": 299
        },
        "id": "R4jxMezqkzY4",
        "outputId": "d139992d-0a23-4403-88c1-31a43db33505"
      },
      "execution_count": null,
      "outputs": [
        {
          "output_type": "display_data",
          "data": {
            "text/plain": [
              "<Figure size 432x288 with 1 Axes>"
            ],
            "image/png": "[encoded data removed]"
          },
          "metadata": {
            "needs_background": "light"
          }
        }
      ]
    },
    {
      "cell_type": "code",
      "source": [
        "tf.random.set_seed(42)\n",
        "\n",
        "model=tf.keras.Sequential([\n",
        "                             tf.keras.layers.Flatten(input_shape=(28,28)),\n",
        "                             tf.keras.layers.Dense(40,activation=\"relu\"),\n",
        "                             tf.keras.layers.Dense(40,activation=\"relu\"),\n",
        "                             tf.keras.layers.Dense(10,activation=\"softmax\")\n",
        "])\n",
        "model.compile(loss=tf.keras.losses.SparseCategoricalCrossentropy(),\n",
        "                optimizer=tf.keras.optimizers.Adam(lr=0.001),\n",
        "                metrics=[\"accuracy\"])\n",
        "#create the learning rate callback\n",
        "lr_scheduler=tf.keras.callbacks.LearningRateScheduler(lambda epoch:1e-3 * 10**(epoch/20))\n",
        "find_lr_history=model.fit(X_train,y_train,\n",
        "                            epochs=20,\n",
        "                            validation_data=(X_test,y_test),\n",
        "                            callbacks=[lr_scheduler])"
      ],
      "metadata": {
        "colab": {
          "base_uri": "https://localhost:8080/"
        },
        "id": "9YEUrygHpOjz",
        "outputId": "c4b5fe4e-bd35-4f3a-e6d8-3b3c2694a2ba"
      },
      "execution_count": null,
      "outputs": [
        {
          "output_type": "stream",
          "name": "stderr",
          "text": [
            "/usr/local/lib/python3.7/dist-packages/keras/optimizer_v2/adam.py:105: UserWarning: The `lr` argument is deprecated, use `learning_rate` instead.\n",
            "  super(Adam, self).__init__(name, **kwargs)\n"
          ]
        },
        {
          "output_type": "stream",
          "name": "stdout",
          "text": [
            "Epoch 1/20\n",
            "1875/1875 [==============================] - 9s 4ms/step - loss: 0.5247 - accuracy: 0.8166 - val_loss: 0.4328 - val_accuracy: 0.8419 - lr: 0.0010\n",
            "Epoch 2/20\n",
            "1875/1875 [==============================] - 4s 2ms/step - loss: 0.3938 - accuracy: 0.8578 - val_loss: 0.4807 - val_accuracy: 0.8377 - lr: 0.0011\n",
            "Epoch 3/20\n",
            "1875/1875 [==============================] - 5s 3ms/step - loss: 0.3654 - accuracy: 0.8671 - val_loss: 0.4023 - val_accuracy: 0.8518 - lr: 0.0013\n",
            "Epoch 4/20\n",
            "1875/1875 [==============================] - 5s 3ms/step - loss: 0.3467 - accuracy: 0.8732 - val_loss: 0.4035 - val_accuracy: 0.8555 - lr: 0.0014\n",
            "Epoch 5/20\n",
            "1875/1875 [==============================] - 5s 2ms/step - loss: 0.3345 - accuracy: 0.8774 - val_loss: 0.3899 - val_accuracy: 0.8579 - lr: 0.0016\n",
            "Epoch 6/20\n",
            "1875/1875 [==============================] - 4s 2ms/step - loss: 0.3251 - accuracy: 0.8811 - val_loss: 0.4005 - val_accuracy: 0.8553 - lr: 0.0018\n",
            "Epoch 7/20\n",
            "1875/1875 [==============================] - 5s 2ms/step - loss: 0.3184 - accuracy: 0.8837 - val_loss: 0.3650 - val_accuracy: 0.8700 - lr: 0.0020\n",
            "Epoch 8/20\n",
            "1875/1875 [==============================] - 4s 2ms/step - loss: 0.3150 - accuracy: 0.8847 - val_loss: 0.3587 - val_accuracy: 0.8717 - lr: 0.0022\n",
            "Epoch 9/20\n",
            "1875/1875 [==============================] - 4s 2ms/step - loss: 0.3120 - accuracy: 0.8851 - val_loss: 0.3753 - val_accuracy: 0.8640 - lr: 0.0025\n",
            "Epoch 10/20\n",
            "1875/1875 [==============================] - 5s 2ms/step - loss: 0.3094 - accuracy: 0.8853 - val_loss: 0.4138 - val_accuracy: 0.8564 - lr: 0.0028\n",
            "Epoch 11/20\n",
            "1875/1875 [==============================] - 5s 2ms/step - loss: 0.3109 - accuracy: 0.8838 - val_loss: 0.4028 - val_accuracy: 0.8595 - lr: 0.0032\n",
            "Epoch 12/20\n",
            "1875/1875 [==============================] - 4s 2ms/step - loss: 0.3134 - accuracy: 0.8840 - val_loss: 0.3907 - val_accuracy: 0.8624 - lr: 0.0035\n",
            "Epoch 13/20\n",
            "1875/1875 [==============================] - 5s 3ms/step - loss: 0.3178 - accuracy: 0.8834 - val_loss: 0.3975 - val_accuracy: 0.8560 - lr: 0.0040\n",
            "Epoch 14/20\n",
            "1875/1875 [==============================] - 5s 2ms/step - loss: 0.3177 - accuracy: 0.8845 - val_loss: 0.4010 - val_accuracy: 0.8643 - lr: 0.0045\n",
            "Epoch 15/20\n",
            "1875/1875 [==============================] - 5s 2ms/step - loss: 0.3237 - accuracy: 0.8828 - val_loss: 0.4033 - val_accuracy: 0.8548 - lr: 0.0050\n",
            "Epoch 16/20\n",
            "1875/1875 [==============================] - 6s 3ms/step - loss: 0.3295 - accuracy: 0.8804 - val_loss: 0.4251 - val_accuracy: 0.8585 - lr: 0.0056\n",
            "Epoch 17/20\n",
            "1875/1875 [==============================] - 5s 3ms/step - loss: 0.3310 - accuracy: 0.8796 - val_loss: 0.4204 - val_accuracy: 0.8602 - lr: 0.0063\n",
            "Epoch 18/20\n",
            "1875/1875 [==============================] - 5s 3ms/step - loss: 0.3464 - accuracy: 0.8769 - val_loss: 0.4032 - val_accuracy: 0.8623 - lr: 0.0071\n",
            "Epoch 19/20\n",
            "1875/1875 [==============================] - 4s 2ms/step - loss: 0.3505 - accuracy: 0.8760 - val_loss: 0.4312 - val_accuracy: 0.8491 - lr: 0.0079\n",
            "Epoch 20/20\n",
            "1875/1875 [==============================] - 5s 3ms/step - loss: 0.3594 - accuracy: 0.8747 - val_loss: 0.4031 - val_accuracy: 0.8644 - lr: 0.0089\n"
          ]
        }
      ]
    },
    {
      "cell_type": "code",
      "source": [
        "# Note: The following confusion matrix code is a remix of Scikit-Learn's \n",
        "# plot_confusion_matrix function - https://scikit-learn.org/stable/modules/generated/sklearn.metrics.plot_confusion_matrix.html\n",
        "# and Made with ML's introductory notebook - https://github.com/GokuMohandas/MadeWithML/blob/main/notebooks/08_Neural_Networks.ipynb\n",
        "import itertools\n",
        "from sklearn.metrics import confusion_matrix\n",
        "\n",
        "# Our function needs a different name to sklearn's plot_confusion_matrix\n",
        "def make_confusion_matrix(y_true, y_pred, classes=None, figsize=(10, 10), text_size=15): \n",
        "  \"\"\"Makes a labelled confusion matrix comparing predictions and ground truth labels.\n",
        "\n",
        "  If classes is passed, confusion matrix will be labelled, if not, integer class values\n",
        "  will be used.\n",
        "\n",
        "  Args:\n",
        "    y_true: Array of truth labels (must be same shape as y_pred).\n",
        "    y_pred: Array of predicted labels (must be same shape as y_true).\n",
        "    classes: Array of class labels (e.g. string form). If `None`, integer labels are used.\n",
        "    figsize: Size of output figure (default=(10, 10)).\n",
        "    text_size: Size of output figure text (default=15).\n",
        "  \n",
        "  Returns:\n",
        "    A labelled confusion matrix plot comparing y_true and y_pred.\n",
        "\n",
        "  Example usage:\n",
        "    make_confusion_matrix(y_true=test_labels, # ground truth test labels\n",
        "                          y_pred=y_preds, # predicted labels\n",
        "                          classes=class_names, # array of class label names\n",
        "                          figsize=(15, 15),\n",
        "                          text_size=10)\n",
        "  \"\"\"  \n",
        "  # Create the confustion matrix\n",
        "  cm = confusion_matrix(y_true, y_pred)\n",
        "  cm_norm = cm.astype(\"float\") / cm.sum(axis=1)[:, np.newaxis] # normalize it\n",
        "  n_classes = cm.shape[0] # find the number of classes we're dealing with\n",
        "\n",
        "  # Plot the figure and make it pretty\n",
        "  fig, ax = plt.subplots(figsize=figsize)\n",
        "  cax = ax.matshow(cm, cmap=plt.cm.Blues) # colors will represent how 'correct' a class is, darker == better\n",
        "  fig.colorbar(cax)\n",
        "\n",
        "  # Are there a list of classes?\n",
        "  if classes:\n",
        "    labels = classes\n",
        "  else:\n",
        "    labels = np.arange(cm.shape[0])\n",
        "  \n",
        "  # Label the axes\n",
        "  ax.set(title=\"Confusion Matrix\",\n",
        "         xlabel=\"Predicted label\",\n",
        "         ylabel=\"True label\",\n",
        "         xticks=np.arange(n_classes), # create enough axis slots for each class\n",
        "         yticks=np.arange(n_classes), \n",
        "         xticklabels=labels, # axes will labeled with class names (if they exist) or ints\n",
        "         yticklabels=labels)\n",
        "  \n",
        "  # Make x-axis labels appear on bottom\n",
        "  ax.xaxis.set_label_position(\"bottom\")\n",
        "  ax.xaxis.tick_bottom()\n",
        "\n",
        "  # Set the threshold for different colors\n",
        "  threshold = (cm.max() + cm.min()) / 2.\n",
        "\n",
        "  # Plot the text on each cell\n",
        "  for i, j in itertools.product(range(cm.shape[0]), range(cm.shape[1])):\n",
        "    plt.text(j, i, f\"{cm[i, j]} ({cm_norm[i, j]*100:.1f}%)\",\n",
        "             horizontalalignment=\"center\",\n",
        "             color=\"white\" if cm[i, j] > threshold else \"black\",\n",
        "             size=text_size)"
      ],
      "metadata": {
        "id": "qdTu0VdSmf3O"
      },
      "execution_count": null,
      "outputs": []
    },
    {
      "cell_type": "code",
      "source": [
        "y_probs=model.predict(X_test)"
      ],
      "metadata": {
        "id": "wCd4yLXSmmFq"
      },
      "execution_count": null,
      "outputs": []
    },
    {
      "cell_type": "code",
      "source": [
        "y_probs[:5]"
      ],
      "metadata": {
        "colab": {
          "base_uri": "https://localhost:8080/"
        },
        "id": "XV9mVaIPm_f5",
        "outputId": "6ae30553-b71b-421e-c636-e7fe93df9554"
      },
      "execution_count": null,
      "outputs": [
        {
          "output_type": "execute_result",
          "data": {
            "text/plain": [
              "array([[1.04693705e-10, 6.48663415e-11, 1.18800884e-13, 5.21697849e-08,\n",
              "        7.96437694e-10, 7.29191024e-03, 1.14067376e-07, 6.51187971e-02,\n",
              "        1.55890191e-07, 9.27589059e-01],\n",
              "       [9.14665230e-04, 4.68485114e-13, 9.97510791e-01, 1.81645703e-08,\n",
              "        3.77486758e-05, 0.00000000e+00, 1.53675524e-03, 4.78545766e-36,\n",
              "        1.08691601e-07, 0.00000000e+00],\n",
              "       [6.31457997e-10, 9.99987960e-01, 1.08277953e-09, 1.15404164e-05,\n",
              "        5.59254087e-10, 1.06996685e-20, 9.44720604e-12, 0.00000000e+00,\n",
              "        4.40592316e-07, 3.36579832e-21],\n",
              "       [1.35344102e-15, 9.99999881e-01, 2.13077624e-12, 1.21838028e-07,\n",
              "        1.08635702e-12, 2.14318892e-22, 3.88620139e-17, 0.00000000e+00,\n",
              "        3.06483638e-09, 2.77377974e-21],\n",
              "       [1.62500665e-01, 1.74805056e-03, 1.62963971e-01, 3.20201777e-02,\n",
              "        3.65808792e-02, 2.19204981e-06, 5.86108863e-01, 5.70925529e-08,\n",
              "        1.80746466e-02, 4.98152701e-07]], dtype=float32)"
            ]
          },
          "metadata": {},
          "execution_count": 71
        }
      ]
    },
    {
      "cell_type": "code",
      "source": [
        "y_preds = y_probs.argmax(axis=1)"
      ],
      "metadata": {
        "id": "enCE7H_gnAys"
      },
      "execution_count": null,
      "outputs": []
    },
    {
      "cell_type": "code",
      "source": [
        "y_preds[:10]"
      ],
      "metadata": {
        "colab": {
          "base_uri": "https://localhost:8080/"
        },
        "id": "baogNrplnF3-",
        "outputId": "c0dc0079-74d1-45a0-b60b-dd0903f8a314"
      },
      "execution_count": null,
      "outputs": [
        {
          "output_type": "execute_result",
          "data": {
            "text/plain": [
              "array([9, 2, 1, 1, 6, 1, 4, 6, 5, 7])"
            ]
          },
          "metadata": {},
          "execution_count": 73
        }
      ]
    },
    {
      "cell_type": "code",
      "source": [
        "make_confusion_matrix(y_true=y_test, \n",
        "                      y_pred=y_preds,\n",
        "                      classes=class_names,\n",
        "                      figsize=(15, 15),\n",
        "                      text_size=10)"
      ],
      "metadata": {
        "colab": {
          "base_uri": "https://localhost:8080/",
          "height": 852
        },
        "id": "7IJCXqMcnYyy",
        "outputId": "3a7d0baf-cb7b-4c46-9890-8706f61c593f"
      },
      "execution_count": null,
      "outputs": [
        {
          "output_type": "display_data",
          "data": {
            "text/plain": [
              "<Figure size 1080x1080 with 2 Axes>"
            ],
            "image/png": "[encoded data removed]"
          },
          "metadata": {
            "needs_background": "light"
          }
        }
      ]
    },
    {
      "cell_type": "markdown",
      "source": [
        ""
      ],
      "metadata": {
        "id": "8Idczb98ng8G"
      }
    },
    {
      "cell_type": "code",
      "source": [
        "confusion_matrix(y_test,y_preds)"
      ],
      "metadata": {
        "colab": {
          "base_uri": "https://localhost:8080/"
        },
        "id": "WjbEOBxMne5c",
        "outputId": "a7ce66df-60d9-433b-be6f-2b0177607bb4"
      },
      "execution_count": null,
      "outputs": [
        {
          "output_type": "execute_result",
          "data": {
            "text/plain": [
              "array([[777,   3,  18,  32,   3,   2, 158,   0,   6,   1],\n",
              "       [ 12, 955,   2,  24,   3,   0,   4,   0,   0,   0],\n",
              "       [ 10,   1, 830,  11,  84,   2,  60,   0,   2,   0],\n",
              "       [ 25,   3,  10, 895,  33,   2,  29,   0,   3,   0],\n",
              "       [  0,   1, 174,  35, 751,   0,  38,   0,   1,   0],\n",
              "       [  0,   0,   0,   0,   0, 947,   0,  28,   3,  22],\n",
              "       [ 98,   2, 121,  34,  90,   0, 644,   0,  11,   0],\n",
              "       [  0,   0,   0,   0,   0,  23,   0, 953,   0,  24],\n",
              "       [  3,   0,  14,   6,  25,   1,   6,   6, 939,   0],\n",
              "       [  0,   0,   0,   0,   0,   7,   1,  39,   0, 953]])"
            ]
          },
          "metadata": {},
          "execution_count": 75
        }
      ]
    },
    {
      "cell_type": "code",
      "source": [
        ""
      ],
      "metadata": {
        "id": "6V6SqtnwosPv"
      },
      "execution_count": null,
      "outputs": []
    }
  ]
}